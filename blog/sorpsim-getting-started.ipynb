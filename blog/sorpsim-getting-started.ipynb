{
 "cells": [
  {
   "cell_type": "markdown",
   "metadata": {},
   "source": [
    "# Installing SorpSim"
   ]
  },
  {
   "cell_type": "markdown",
   "metadata": {},
   "source": [
    "## Prerequisites\n",
    "\n",
    "First determine your goals. To merely use the program, you need only download\n",
    "the installer and PDF manual, both available from the [GitHub landing page](https://github.com/oabdelaziz/SorpSim).\n",
    "\n",
    "However, if you wish to develop source code (fix bugs or add features),\n",
    "you will need the following.\n",
    "- A C++ compiler compatible with all the libraries below\n",
    "  - I find that VisualStudio 2017 Community Edition is satisfactory, albeit not open source.\n",
    "    It is free but will require you to create a free account after 30 days.\n",
    "    You also should install the command line debugger (CDB) from the\n",
    "    [Windows Driver Kit](https://developer.microsoft.com/en-us/windows/hardware/windows-driver-kit),\n",
    "    but that is not required to compile and run code that already works.\n",
    "    Also, for some reason I have also installed the\n",
    "    [Windows 10 SDK](https://developer.microsoft.com/en-us/windows/downloads/windows-10-sdk),\n",
    "    but can't remember why.\n",
    "  - You might also try GCC (or its Windows ports, MinGW and MSYS), since the program uses Qt and should thus be cross-platform.\n",
    "- [Qwt library](http://qwt.sourceforge.net/). Click through to http://sourceforge.net/projects/qwt/files.\n",
    "  Download and extract to a local folder such as `C:\\qwt-6.1.3\\`.\n",
    "- Qt\n",
    "  - The usual installer should give you the Qt libraries and also an option to install QtCreator,\n",
    "    an IDE that you should utilize.\n",
    "    It includes the Qt documentation, tutorials, examples, and most importantly makes it relatively painless to\n",
    "    manage a project, edit graphical user interfaces, and compile source using Qt.\n",
    "  - If needed, after installing, optionally set up the debugger per http://doc.qt.io/qtcreator/creator-debugger-engines.html.\n",
    "- Git and optional remote repository\n",
    "  - Git is used to track your changes to source code (in order to debug, share, and backup your work).\n",
    "    You can find a standalone program to install, or get it via your favorite package manager\n",
    "    (such as with Linux, or with Anaconda), or get it via GitHub desktop (see next bullet).\n",
    "  - For the remote repository, consider opening an account with GitHub, since this platform makes it easy to\n",
    "    communicate and synchronize with other teams already working on SorpSim. Optionally, you can download\n",
    "    their desktop client; otherwise, search their site for instructions to configure your local repository\n",
    "    for access to push your local changes to the remote. First look at the repository in the next step, anyway.\n",
    "- SorpSim source code\n",
    "  - Finally! Go [here](https://github.com/oabdelaziz/SorpSim) and click the Clone button to get instructions.\n",
    "  \n",
    "Now, open QtCreator. Select to open an existing project, and navigate to find\n",
    "`SorpSim/src/SorpSim.pro`, a Qt project file. You are then given options for\n",
    "which compilers and platforms to use; just pick a favorite and click to Configure\n",
    "(this create a new `SorpSim.pro.user` file for your local machine).\n",
    "The QtCreator then takes on the Editing mode appearance, and you can browse and\n",
    "open source files. First, you need to edit SorpSim.pro and make sure that all\n",
    "library paths are correct, specifically the Qwt library. (This initial setup could\n",
    "be done using CMake, but that requires some labor.) Save changes, and then use menus\n",
    "to `Build > qmake`. Now you are ready to build the project and run it."
   ]
  },
  {
   "cell_type": "markdown",
   "metadata": {},
   "source": [
    "## Development branches\n",
    "\n",
    "If you look at the GitHub page for SorpSim, you might see something like\n",
    "`2 authors`. Clicking through shows that there are a number of parallel\n",
    "efforts. The developers may choose to synchronize changes into one main\n",
    "branch, but it is good to research which branch is most up-to-date and\n",
    "which developers are most active. Note: you can and likely should talk to them!"
   ]
  },
  {
   "cell_type": "code",
   "execution_count": null,
   "metadata": {
    "collapsed": true
   },
   "outputs": [],
   "source": []
  }
 ],
 "metadata": {
  "kernelspec": {
   "display_name": "Python 3",
   "language": "python",
   "name": "python3"
  },
  "language_info": {
   "codemirror_mode": {
    "name": "ipython",
    "version": 3
   },
   "file_extension": ".py",
   "mimetype": "text/x-python",
   "name": "python",
   "nbconvert_exporter": "python",
   "pygments_lexer": "ipython3",
   "version": "3.6.2"
  }
 },
 "nbformat": 4,
 "nbformat_minor": 2
}
