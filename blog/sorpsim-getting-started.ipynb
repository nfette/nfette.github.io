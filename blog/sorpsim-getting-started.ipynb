{
 "cells": [
  {
   "cell_type": "markdown",
   "metadata": {},
   "source": [
    "# Installing SorpSim"
   ]
  },
  {
   "cell_type": "markdown",
   "metadata": {},
   "source": [
    "## Prerequisites\n",
    "\n",
    "First determine your goals. To merely use the program, you need only download\n",
    "the installer and PDF manual, both available from the [GitHub landing page](https://github.com/oabdelaziz/SorpSim).\n",
    "\n",
    "However, if you wish to develop source code (fix bugs or add features),\n",
    "you will need the following. Note that the larger programs may take 10-20 minutes to install/compile.\n",
    "\n",
    "1. A C++ compiler compatible with all the libraries below\n",
    "  - I find that VisualStudio 2017 Community Edition is satisfactory, albeit not open source.\n",
    "    It is free but will require you to create a free account after 30 days.\n",
    "    You also should install the command line debugger (CDB) from the\n",
    "    [Windows Driver Kit](https://developer.microsoft.com/en-us/windows/hardware/windows-driver-kit),\n",
    "    but that is not required to compile and run code that already works.\n",
    "    Also, for some reason I have also installed the\n",
    "    [Windows 10 SDK](https://developer.microsoft.com/en-us/windows/downloads/windows-10-sdk),\n",
    "    but can't remember why.\n",
    "  - You might also try GCC (or its Windows ports, MinGW and MSYS), since the program uses Qt and should thus be cross-platform.\n",
    "2. Qt\n",
    "  - The usual installer should give you the Qt libraries and also an option to install QtCreator,\n",
    "    an IDE that you should utilize.\n",
    "    It includes the Qt documentation, tutorials, examples, and most importantly makes it relatively painless to\n",
    "    manage a project, edit graphical user interfaces, and compile source using Qt.\n",
    "  - If needed, after installing, optionally set up the debugger per http://doc.qt.io/qtcreator/creator-debugger-engines.html.\n",
    "3. [Qwt library](http://qwt.sourceforge.net/). Click through to http://sourceforge.net/projects/qwt/files.\n",
    "  Download and extract to a local folder such as `C:\\qwt-6.1.3\\`. Then,\n",
    "  read the project documentation (online or in the local `doc` folder)\n",
    "  regarding installing. You will have to compile a shared library with your favorite compiler\n",
    "  (eg. VisualStudio will give you a DLL file, MinGW will give you something).\n",
    "4. Git and optional remote repository\n",
    "  - Git is used to track your changes to source code (in order to debug, share, and backup your work).\n",
    "    You can find a standalone program to install, or get it via your favorite package manager\n",
    "    (such as with Linux, or with Anaconda), or get it via GitHub desktop (see next bullet).\n",
    "  - For the remote repository, consider opening an account with GitHub, since this platform makes it easy to\n",
    "    communicate and synchronize with other teams already working on SorpSim. Optionally, you can download\n",
    "    their desktop client; otherwise, search their site for instructions to configure your local repository\n",
    "    for access to push your local changes to the remote. First look at the repository in the next step, anyway.\n",
    "5. SorpSim source code\n",
    "  - Finally! Go [here](https://github.com/oabdelaziz/SorpSim) and click the Clone button to get instructions.\n",
    "  \n",
    "Now, open QtCreator. Select to open an existing project, and navigate to find\n",
    "`SorpSim/src/SorpSim.pro`, a Qt project file. You are then given options for\n",
    "which compilers and platforms to use; just pick a favorite and click to Configure\n",
    "(this create a new `SorpSim.pro.user` file for your local machine).\n",
    "The QtCreator then takes on the Editing mode appearance, and you can browse and\n",
    "open source files. First, you need to edit SorpSim.pro and make sure that all\n",
    "library paths are correct, specifically the Qwt library (include files, sources,\n",
    "and .\n",
    "(This initial setup could be done using CMake, but that requires some labor.)\n",
    "Save changes, and then use menus to `Build > qmake`, which generates a Makefile\n",
    "for your compiler. Now you are ready to build the project and run it.\n"
   ]
  },
  {
   "cell_type": "markdown",
   "metadata": {},
   "source": [
    "## Development branches\n",
    "\n",
    "If you look at the GitHub page for SorpSim, you might see something like\n",
    "`2 authors`. Clicking through shows that there are a number of parallel\n",
    "efforts. The developers may choose to synchronize changes into one main\n",
    "branch, but it is good to research which branch is most up-to-date and\n",
    "which developers are most active. Note: you can and likely should talk to them!"
   ]
  },
  {
   "cell_type": "markdown",
   "metadata": {},
   "source": [
    "## Building sources\n",
    "\n",
    "### Vcvars\n",
    "\n",
    "In the past I had difficulty compiling code (namely the CoolProp wrapper for Python) using my VS compiler from command line. This may have something to do with the Universal CRT [as claimed by MS](https://social.msdn.microsoft.com/Forums/vstudio/en-US/0f580a73-6f11-4aa6-abbe-6bf1438734c2/standard-files-stddefh-stringh-missing-in-visual-studio-2015-rc?forum=vclanguage), or may just be a [bug of VS](https://developercommunity.visualstudio.com/content/problem/22031/unusable-vc-build-tools-2015-installed-with-vs2017.html). In fact you need to follow those directions in order to *install a working version* of VS. Furthermore, I found that executing a couple lines was necessary to include the VS command line tools correctly. The script is [here](https://gist.github.com/nfette/c847ebfc1faeeb33d8f0d417ee0b06ea) and requires you to set the arguments on the first Call statement based on your desired platform; see [here](https://docs.microsoft.com/en-us/cpp/build/building-on-the-command-line). You could try that, or try launching QtCreator via the command line from within a \"Native Tools Command Prompt\" of your choosing. With the latter approach, you need to include manually into the Path: Qt bin and Jom.\n",
    "\n",
    "### Qwt\n",
    "\n",
    "As the file `qwt/INSTALL` indicates, you need to read\n",
    "[the documentation](http://qwt.sourceforge.net/qwtinstall.html).\n",
    "(Basic prequisites: open a command line, make sure that Qt\n",
    "and your compiler tools are included in Path environment variable, etc.)\n",
    "To help compile faster, try multithreaded compile. Per the Qwt documentation,\n",
    "for MinGW, make takes argument `-j`, as in `-j4` for 4 cores. For VS, the\n",
    "make tool is Nmake, which has no such option; see [Nmake options](https://docs.microsoft.com/en-us/cpp/build/nmake-options).\n",
    "On the other hand, the compiler does understand multithreading:\n",
    "see [here](https://docs.microsoft.com/en-us/cpp/build/reference/mp-build-with-multiple-processes)\n",
    "and [here](https://stackoverflow.com/questions/601970/how-do-i-utilise-all-the-cores-for-nmake).\n",
    "The conclusion is that you need a replacement for nmake called [JOM](https://wiki.qt.io/Jom),\n",
    "which is conveniently provided by the Qt folks, and automatically used by QtCreator\n",
    "for VS projects. How about that?\n",
    "\n",
    "Note that the Qwt project contains two targets to build: the library, and\n",
    "also a plugin for QtCreator, in the `qwt/src/designer` directory.\n",
    "Project settings are in the file `qwtconfig.pri` including a switch\n",
    "to control whether and how the plugin is compiled.\n",
    "\n",
    "I built Qwt by opening the project file in QtCreator. By default, QtCreator makes a separate build directory to avoid polluting your source folder; then you will have to locate the include files and libraries for use by SorpSim. Also note that in the IDE, you can pass arguments to your Make program by entering the Projects mode (Ctrl-5) and expanding `Build Steps > Make`.\n",
    "\n",
    "Anyway, compiling took a long time.\n",
    "\n",
    "| Compiler | Flags | Elapsed time |\n",
    "| --- | --- | --- |\n",
    "| MinGW-32 | None | 29:31 |\n",
    "| VS 2017 | jom -j4 | About 3 minutes |\n",
    "\n",
    "### SorpSim\n",
    "\n",
    "Please note above hints for multithreaded compile. Once again, I opened the project file in QtCreator and compiled that way.\n",
    "\n",
    "Here are the typical results.\n",
    "\n",
    "| Compiler | Lib versions | Computer | Extra flags | Compile time |\n",
    "| --- | --- | --- | --- | --- |\n",
    "| MinGW 32-bit | Qt 5.9.3, Qwt 6.1.3, SorpSim 4751bf9 | 8x 3.6 GHz, 8 GB | None | Pending... |\n",
    "| VS 2017 64-bit | Qt 5.9.3, Qwt 6.1.3, SorpSim 4751bf9 | 8x 3.6 GHz, 8 GB | None | Unable to compile with 36 errors |"
   ]
  },
  {
   "cell_type": "markdown",
   "metadata": {
    "collapsed": true
   },
   "source": [
    "## Initial fixes\n",
    "\n",
    "As often happens in life, the code fresh from the published repository will not compile. Here are a list of changes required from the commit 4751bf9.\n",
    "\n",
    "0. Linker was complaining about finding the qwt library, so I let QtCreator automatically generate the specification for the external library into my `SorpSim.pro` file (and I deleted the manually included lines). The difference is at the end of the line an extra argument with lower case l for link, as in `LIBS += -L<qwt path>/lib/ -lqwt`.\n",
    "\n",
    "1. C-tyle array declarations converted to C++ vectors. I was getting errors about initializing arrays with non-constant expression. There were many declarations of C++ style arrays (with brackets[]), some containing Qt objects and many containing double, using variables as the size specifier. C++ wants an actual constant at compile-time, not a `const` variable. So I converted these to declarations of `std::vector<T>`. I wonder if `extern \"C\"` could get around that, but it is easy enough to stick with C++.\n",
    "\n",
    "2. Clean environment PATH variable. I had a DLL in my path that may overlap with system files, from MiKTeX. I removed MiKTeX from the PATH and continued (no change to code).\n",
    "\n",
    "3. Adjust linker argument order. I received a new error message that some symbol was unresolved (in my case, `theTabledialog` from `tabledialog.cpp`). It was defined properly in code. So continuing to search, I read that this error message may be related to [the order in which linked libraries are specified](https://stackoverflow.com/questions/12573816/what-is-an-undefined-reference-unresolved-external-symbol-error-and-how-do-i-fix/24675715#24675715). The project file `SorpSim.pro` lists the files to include in the project. Presumably these are passed as-is to the linker. So I moved `tabledialog.cpp` to just after the two files that use it. **Edit: nevermind, this was not the problem.**\n",
    "\n",
    "4. Change type of extern variables at global scope to match declaration with definition. A global variable `theTabledialog` was defined as `QTableDialog*` in `tabledialog.cpp` but included as `tabledialog*` in a couple other files. \n",
    "\n",
    "5. Include missing files (or drop unused files). The compiler could not find the header file `ui_breaklinkdialog.h`. This type of file gets generated by `moc` in the Qt build process, and its specification is a file `breaklinkdialog.ui`. That file exists; however, the file `SorpSim.pro` lists individual files to include in the Makefile, rather than directories, and this one wasn't listed, althought it was included by `breaklinkdialog.cpp`. However, that code is never used by the project, so we might as well drop it from the list!\n",
    "\n",
    "6. Note: compiling with MSVC, I get a false warning: `..\\src\\tabledialog.cpp(1841): warning C4189: 'fDialog': local variable is initialized but not referenced`. However, the local variable is indeed referenced two lines later! So ignore that one.\n",
    "\n",
    "At last, the code compiles and runs. I was even able to open one of the template files (by browsing). However, it crashed on my *first* attempt to calculate. So there may still be some debugging required! One more note, I can see from the provided `systemSetting.xml` that the last developer was trying to compile with MinGW 32bit and Qt 5.0.2. So I should probably try compiling with that as well."
   ]
  },
  {
   "cell_type": "code",
   "execution_count": null,
   "metadata": {
    "collapsed": true
   },
   "outputs": [],
   "source": []
  }
 ],
 "metadata": {
  "kernelspec": {
   "display_name": "Python 3",
   "language": "python",
   "name": "python3"
  },
  "language_info": {
   "codemirror_mode": {
    "name": "ipython",
    "version": 3
   },
   "file_extension": ".py",
   "mimetype": "text/x-python",
   "name": "python",
   "nbconvert_exporter": "python",
   "pygments_lexer": "ipython3",
   "version": "3.6.2"
  }
 },
 "nbformat": 4,
 "nbformat_minor": 2
}
